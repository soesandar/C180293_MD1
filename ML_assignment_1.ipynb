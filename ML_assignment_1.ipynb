{
  "cells": [
    {
      "metadata": {
        "collapsed": true
      },
      "cell_type": "markdown",
      "source": "## 機械学習・データ分析(2019)　課題1\n\n### このnotebookには、いくつかの課題が記載されています。\n### 先頭から順番に、指示に従ってPython Codeをcellに記述してください。\n### codeを記述するcellは、各自適切に生成してください。\n\n### 課題提出方法\n#### 各自のGitHubに、学籍番号_MD1（たとえば、C180001_MD1)という名称のrepositoryを作成してください。\n#### このnotebookを各自のGitHubのリポジトリ（学籍番号_MD1)へコピーしてください。\n#### 各自のGitHubのリポジトリをoffice 365のメールアカウントを使用して、sugimura@ccg.ac.jpへ送信してください。メールの件名は、学籍番号_MD1としてください。\n##### 【重要】指定された方法で課題を提出することも課題に含まれています。"
    },
    {
      "metadata": {},
      "cell_type": "markdown",
      "source": "#### では、課題を始めます。\n\n##### 第1問：最初に、必要なモジュールを読み込みましょう。\n\n読み込むモジュールは、\n\n+ numpy\n+ pandas\n+ matplotlib.pyplot\n\nです。\n\nさらに、このnotebookの中にグラフを表示できるようにするための命令も記述しましょう。\n"
    },
    {
      "metadata": {},
      "cell_type": "markdown",
      "source": "##### 第2問：　学生名簿CSVファイル ICT2019.csvをデータフレーム型のデータdf_ict1に読み込んでください。\n\n##### ただし、ICT2019.csvには、indexとして用いることができるIDというcolumnが存在していますが、\n##### 新たにindexが付加されるように読み込んでください。\n"
    },
    {
      "metadata": {},
      "cell_type": "markdown",
      "source": "##### 第3問：学生名簿の学生データをID（学籍番号）の昇順に並べ替えて表示してください。並べ替えたデータを保存する必要はありません。\n##### ここで、学籍番号の昇順とは、C180000<C180001<C180002<・・・＜C180999<C190000<C190001<・・・<C190999となるような順序のことです。\n\n##### pandasモジュールには、データフレームを値に基づいて並び替えるためのメソッドsort_values()があります。\n##### sort_values()メソッドを使ってください。sort_values()メソッドは、ソートに利用するcolumnを引数としてもちます。\n##### たとえば、IDという名称のcolumnを利用するならば、引数には、by='ID' を設定します。\n"
    },
    {
      "metadata": {},
      "cell_type": "markdown",
      "source": "##### 第4問：データフレーム型データdf_ict1に関して、classごとの学生数をカウントしてください。\n##### 解答は、\n##### 2S: 2名\n##### 4M: 25名\n##### 3M: 23名\n##### のように出力してください。\n\n##### ただし、df_ict1の列(column)CLASSの値は、たとえば、df_ict1.loc[:, 'CLASS']などによって取得できる。\n##### df_ict1.loc[:, 'CLASS']がdf_ict1からどんなデータを取得できるかは、各自確かめてください。\n\n\n\n"
    },
    {
      "metadata": {},
      "cell_type": "markdown",
      "source": "##### 第5問：第4問と同様に、classごとの学生数をカウントしてください。\n##### ただし、ここでは、Pythonのメソッドsum()を利用してみよう。\n##### sum()は、リストの全ての要素の合計を求めます。\n##### リストの要素がbool型であるとき、sum()は、値がTrueである要素の個数を求めることになります。\n##### なお、sum()関数には、numpy.sum()というnumpyモジュールのsum()もあります。"
    },
    {
      "metadata": {
        "trusted": true
      },
      "cell_type": "markdown",
      "source": "##### 第6問：第4問で求めた各クラスの学生数を円グラフで表示してください。"
    },
    {
      "metadata": {
        "trusted": true
      },
      "cell_type": "markdown",
      "source": "##### 第7問　リスト内包表記を使用して、2桁の奇数からなるリストを作成してください。"
    },
    {
      "metadata": {},
      "cell_type": "markdown",
      "source": "##### 第8問：Titanic号csvファイルtitanic.csvをデータフレーム型のデータdf_titanic1に読み込み、先頭の5行を表示させてください。\n##### 読み込む際に、新たなIDをデータに付加しnaiさい。"
    },
    {
      "metadata": {},
      "cell_type": "markdown",
      "source": "##### 第9問：pandasのmean関数を用いることなく、全体の平均年齢、生存者の平均年齢、死亡者の平均年齢を求めなさい。\n##### ただし、画面に表示する小数点以下の桁数は2桁としてください。\n\n##### （参考）DataFrame型データdf_titanic1の要素の値を取得する方法には、\n+ loc\n+ iloc\n+ at\n+ iat\n##### などがあります。\n##### locやilocは、行と列の範囲を指定して取得するため、取り出されたデータもDataFrame型になります。\n##### これに対して、atやiatは、指定した行と列に存在する1つの要素の値を取り出すことができます。\n##### また、locやatは、行と列のラベル名を指定しますが、ilocやiatは、行番号と列番号を指定します。"
    },
    {
      "metadata": {},
      "cell_type": "markdown",
      "source": "#### 第10問：pandasのmean関数を用いて、全体の平均年齢、生存者の平均年齢、及び、死亡者の平均年齢を求めてください。\n#### それぞれの平均年齢を求めて表示するコードは、1行で記述することができるので、全部で3行のコードだけで解答することができます。\n\n##### DataFrame型データから特定の条件を満たす行を抽出する方法\n+ 比較演算子を用いて'Survived'が1である行を抽出する方法例　----　df_titanic1[df_titanic1['Survived'] == 1]\n+ query()メソッドを用いて'Survived'が1である行を抽出する方法例 ----- df_titanic1.query('Survived == 1')\n\n##### DataFtame型データの特定の列の平均を求める方法\n##### DataFrame型データdf_titanic1の列'Age'の平均を求めるには、df_titanic1['Age'].mean()　のように記述します。返り値は、この特定の列のデータ型となります。\n##### すべての列の平均を求めるには、df_titanic1.mean()　とします。このとき、返り値のデータ型は、Series型です。\n"
    },
    {
      "metadata": {
        "trusted": true
      },
      "cell_type": "code",
      "source": "import pandas as pd\nimport numpy as np\nimport matplotlib.pyplot as plt\n\n\n\ndf_ict1 = pd.read_csv('ICT2019 .csv', index_col = 'ID')\nprint(df_ict1)",
      "execution_count": 11,
      "outputs": [
        {
          "output_type": "stream",
          "text": "       学籍番号 英称学科 CLASS                          氏名  score\nID                                                       \n1   C180002   IW    2S                      髙見澤　弘和      1\n2   C180005   IW    2S                       弘中　哲哉      2\n3   C190314   IM    3M              NGUYEN THE ANH      3\n4   C190342   IM    3M                PHAM THI ANH      4\n5   C190348   IM    3M          CHAUDHARI DILLIRAJ      5\n6   C190353   IM    3M            NGUYEN CHI THANH      1\n7   C190370   IM    3M              TAMRAKAR BITTU      2\n8   C190396   IM    3M                 NWE NI HTWE      3\n9   C190402   IM    3M                GURUNG SUDIP      4\n10  C190403   IM    3M               KAUNG MYAT OO      5\n11  C190404   IM    3M                  YAMIN HTET      1\n12  C190415   IM    3M               PRABU PENDAWA      2\n13  C190439   IM    3M                 SAN YEE MOE      3\n14  C190452   IM    3M                 HEIN KO LAT      4\n15  C190455   IM    3M             AYE EAINDRA TUN      5\n16  C190465   IM    3M               SARI YULIANTI      1\n17  C190466   IM    3M             KHOLIFATUN NISA      2\n18  C190467   IM    3M                        呉　九門      3\n19  C190470   IM    3M                        黄　羽岑      4\n20  C190475   IM    3M                        江　玫衡      5\n21  C190477   IM    3M                EPSON NGANGI      1\n22  C190488   IM    3M                        閻　恵鈺      2\n23  C190492   IM    3M                        于　金鑫      3\n24  C190493   IM    3M                        趙　子帰      4\n25  C190495   IM    3M                         薛　奥      5\n26  C180101   IM    4M           NGUYEN TRUNG KIEN      1\n27  C180103   IM    4M           NGUYEN HUNG THANH      2\n28  C180118   IM    4M               PHAM THU THUY      3\n29  C180131   IM    4M              TRUONG VAN LOI      4\n30  C180137   IM    4M  ANG BRYAN CHRISTIAN DY TAN      5\n31  C180143   IM    4M               TRAN HUE NGAN      1\n32  C180159   IM    4M               GIAP VAN SANG      2\n33  C180166   IM    4M                LE DINH MANH      3\n34  C180189   IM    4M                         李　博      4\n35  C180209   IM    4M           TRAN THI UYEN CHI      5\n36  C180210   IM    4M             NGUYEN NGOC SON      1\n37  C180218   IM    4M             NGUYEN HUU THUC      2\n38  C180233   IM    4M            MICHAEL PANGESTU      3\n39  C180234   IM    4M          DOAN THI NGOC THUY      4\n40  C180242   IM    4M                         陸　銘      5\n41  C180249   IM    4M              ISLAM MD RISUL      1\n42  C180250   IM    4M                  SU MON ZAW      2\n43  C180258   IM    4M           NGUYEN THANH CONG      3\n44  C180267   IM    4M                        孫　靖康      4\n45  C180277   IM    4M                        趙　博雯      5\n46  C180288   IM    4M                         張　瑩      1\n47  C180289   IM    4M                   EI EI ZAW      2\n48  C180291   IM    4M                        劉　明研      3\n49  C180292   IM    4M                        金　永山      4\n50  C180293   IM    4M                  SOE SANDAR      5\n",
          "name": "stdout"
        }
      ]
    },
    {
      "metadata": {
        "trusted": true
      },
      "cell_type": "code",
      "source": "ict2019_2 = pd.read_csv('ICT2019.csv', index_col = 'ID')\nict2019_2",
      "execution_count": 2,
      "outputs": [
        {
          "output_type": "error",
          "ename": "FileNotFoundError",
          "evalue": "File b'ICT2019.csv' does not exist",
          "traceback": [
            "\u001b[0;31m---------------------------------------------------------------------------\u001b[0m",
            "\u001b[0;31mFileNotFoundError\u001b[0m                         Traceback (most recent call last)",
            "\u001b[0;32m<ipython-input-2-e9f9aef38bad>\u001b[0m in \u001b[0;36m<module>\u001b[0;34m\u001b[0m\n\u001b[0;32m----> 1\u001b[0;31m \u001b[0mict2019_2\u001b[0m \u001b[0;34m=\u001b[0m \u001b[0mpd\u001b[0m\u001b[0;34m.\u001b[0m\u001b[0mread_csv\u001b[0m\u001b[0;34m(\u001b[0m\u001b[0;34m'ICT2019.csv'\u001b[0m\u001b[0;34m,\u001b[0m \u001b[0mindex_col\u001b[0m \u001b[0;34m=\u001b[0m \u001b[0;34m'ID'\u001b[0m\u001b[0;34m)\u001b[0m\u001b[0;34m\u001b[0m\u001b[0m\n\u001b[0m\u001b[1;32m      2\u001b[0m \u001b[0mict2019_2\u001b[0m\u001b[0;34m\u001b[0m\u001b[0m\n",
            "\u001b[0;32m~/anaconda3_501/lib/python3.6/site-packages/pandas/io/parsers.py\u001b[0m in \u001b[0;36mparser_f\u001b[0;34m(filepath_or_buffer, sep, delimiter, header, names, index_col, usecols, squeeze, prefix, mangle_dupe_cols, dtype, engine, converters, true_values, false_values, skipinitialspace, skiprows, nrows, na_values, keep_default_na, na_filter, verbose, skip_blank_lines, parse_dates, infer_datetime_format, keep_date_col, date_parser, dayfirst, iterator, chunksize, compression, thousands, decimal, lineterminator, quotechar, quoting, escapechar, comment, encoding, dialect, tupleize_cols, error_bad_lines, warn_bad_lines, skipfooter, doublequote, delim_whitespace, low_memory, memory_map, float_precision)\u001b[0m\n\u001b[1;32m    676\u001b[0m                     skip_blank_lines=skip_blank_lines)\n\u001b[1;32m    677\u001b[0m \u001b[0;34m\u001b[0m\u001b[0m\n\u001b[0;32m--> 678\u001b[0;31m         \u001b[0;32mreturn\u001b[0m \u001b[0m_read\u001b[0m\u001b[0;34m(\u001b[0m\u001b[0mfilepath_or_buffer\u001b[0m\u001b[0;34m,\u001b[0m \u001b[0mkwds\u001b[0m\u001b[0;34m)\u001b[0m\u001b[0;34m\u001b[0m\u001b[0m\n\u001b[0m\u001b[1;32m    679\u001b[0m \u001b[0;34m\u001b[0m\u001b[0m\n\u001b[1;32m    680\u001b[0m     \u001b[0mparser_f\u001b[0m\u001b[0;34m.\u001b[0m\u001b[0m__name__\u001b[0m \u001b[0;34m=\u001b[0m \u001b[0mname\u001b[0m\u001b[0;34m\u001b[0m\u001b[0m\n",
            "\u001b[0;32m~/anaconda3_501/lib/python3.6/site-packages/pandas/io/parsers.py\u001b[0m in \u001b[0;36m_read\u001b[0;34m(filepath_or_buffer, kwds)\u001b[0m\n\u001b[1;32m    438\u001b[0m \u001b[0;34m\u001b[0m\u001b[0m\n\u001b[1;32m    439\u001b[0m     \u001b[0;31m# Create the parser.\u001b[0m\u001b[0;34m\u001b[0m\u001b[0;34m\u001b[0m\u001b[0m\n\u001b[0;32m--> 440\u001b[0;31m     \u001b[0mparser\u001b[0m \u001b[0;34m=\u001b[0m \u001b[0mTextFileReader\u001b[0m\u001b[0;34m(\u001b[0m\u001b[0mfilepath_or_buffer\u001b[0m\u001b[0;34m,\u001b[0m \u001b[0;34m**\u001b[0m\u001b[0mkwds\u001b[0m\u001b[0;34m)\u001b[0m\u001b[0;34m\u001b[0m\u001b[0m\n\u001b[0m\u001b[1;32m    441\u001b[0m \u001b[0;34m\u001b[0m\u001b[0m\n\u001b[1;32m    442\u001b[0m     \u001b[0;32mif\u001b[0m \u001b[0mchunksize\u001b[0m \u001b[0;32mor\u001b[0m \u001b[0miterator\u001b[0m\u001b[0;34m:\u001b[0m\u001b[0;34m\u001b[0m\u001b[0m\n",
            "\u001b[0;32m~/anaconda3_501/lib/python3.6/site-packages/pandas/io/parsers.py\u001b[0m in \u001b[0;36m__init__\u001b[0;34m(self, f, engine, **kwds)\u001b[0m\n\u001b[1;32m    785\u001b[0m             \u001b[0mself\u001b[0m\u001b[0;34m.\u001b[0m\u001b[0moptions\u001b[0m\u001b[0;34m[\u001b[0m\u001b[0;34m'has_index_names'\u001b[0m\u001b[0;34m]\u001b[0m \u001b[0;34m=\u001b[0m \u001b[0mkwds\u001b[0m\u001b[0;34m[\u001b[0m\u001b[0;34m'has_index_names'\u001b[0m\u001b[0;34m]\u001b[0m\u001b[0;34m\u001b[0m\u001b[0m\n\u001b[1;32m    786\u001b[0m \u001b[0;34m\u001b[0m\u001b[0m\n\u001b[0;32m--> 787\u001b[0;31m         \u001b[0mself\u001b[0m\u001b[0;34m.\u001b[0m\u001b[0m_make_engine\u001b[0m\u001b[0;34m(\u001b[0m\u001b[0mself\u001b[0m\u001b[0;34m.\u001b[0m\u001b[0mengine\u001b[0m\u001b[0;34m)\u001b[0m\u001b[0;34m\u001b[0m\u001b[0m\n\u001b[0m\u001b[1;32m    788\u001b[0m \u001b[0;34m\u001b[0m\u001b[0m\n\u001b[1;32m    789\u001b[0m     \u001b[0;32mdef\u001b[0m \u001b[0mclose\u001b[0m\u001b[0;34m(\u001b[0m\u001b[0mself\u001b[0m\u001b[0;34m)\u001b[0m\u001b[0;34m:\u001b[0m\u001b[0;34m\u001b[0m\u001b[0m\n",
            "\u001b[0;32m~/anaconda3_501/lib/python3.6/site-packages/pandas/io/parsers.py\u001b[0m in \u001b[0;36m_make_engine\u001b[0;34m(self, engine)\u001b[0m\n\u001b[1;32m   1012\u001b[0m     \u001b[0;32mdef\u001b[0m \u001b[0m_make_engine\u001b[0m\u001b[0;34m(\u001b[0m\u001b[0mself\u001b[0m\u001b[0;34m,\u001b[0m \u001b[0mengine\u001b[0m\u001b[0;34m=\u001b[0m\u001b[0;34m'c'\u001b[0m\u001b[0;34m)\u001b[0m\u001b[0;34m:\u001b[0m\u001b[0;34m\u001b[0m\u001b[0m\n\u001b[1;32m   1013\u001b[0m         \u001b[0;32mif\u001b[0m \u001b[0mengine\u001b[0m \u001b[0;34m==\u001b[0m \u001b[0;34m'c'\u001b[0m\u001b[0;34m:\u001b[0m\u001b[0;34m\u001b[0m\u001b[0m\n\u001b[0;32m-> 1014\u001b[0;31m             \u001b[0mself\u001b[0m\u001b[0;34m.\u001b[0m\u001b[0m_engine\u001b[0m \u001b[0;34m=\u001b[0m \u001b[0mCParserWrapper\u001b[0m\u001b[0;34m(\u001b[0m\u001b[0mself\u001b[0m\u001b[0;34m.\u001b[0m\u001b[0mf\u001b[0m\u001b[0;34m,\u001b[0m \u001b[0;34m**\u001b[0m\u001b[0mself\u001b[0m\u001b[0;34m.\u001b[0m\u001b[0moptions\u001b[0m\u001b[0;34m)\u001b[0m\u001b[0;34m\u001b[0m\u001b[0m\n\u001b[0m\u001b[1;32m   1015\u001b[0m         \u001b[0;32melse\u001b[0m\u001b[0;34m:\u001b[0m\u001b[0;34m\u001b[0m\u001b[0m\n\u001b[1;32m   1016\u001b[0m             \u001b[0;32mif\u001b[0m \u001b[0mengine\u001b[0m \u001b[0;34m==\u001b[0m \u001b[0;34m'python'\u001b[0m\u001b[0;34m:\u001b[0m\u001b[0;34m\u001b[0m\u001b[0m\n",
            "\u001b[0;32m~/anaconda3_501/lib/python3.6/site-packages/pandas/io/parsers.py\u001b[0m in \u001b[0;36m__init__\u001b[0;34m(self, src, **kwds)\u001b[0m\n\u001b[1;32m   1706\u001b[0m         \u001b[0mkwds\u001b[0m\u001b[0;34m[\u001b[0m\u001b[0;34m'usecols'\u001b[0m\u001b[0;34m]\u001b[0m \u001b[0;34m=\u001b[0m \u001b[0mself\u001b[0m\u001b[0;34m.\u001b[0m\u001b[0musecols\u001b[0m\u001b[0;34m\u001b[0m\u001b[0m\n\u001b[1;32m   1707\u001b[0m \u001b[0;34m\u001b[0m\u001b[0m\n\u001b[0;32m-> 1708\u001b[0;31m         \u001b[0mself\u001b[0m\u001b[0;34m.\u001b[0m\u001b[0m_reader\u001b[0m \u001b[0;34m=\u001b[0m \u001b[0mparsers\u001b[0m\u001b[0;34m.\u001b[0m\u001b[0mTextReader\u001b[0m\u001b[0;34m(\u001b[0m\u001b[0msrc\u001b[0m\u001b[0;34m,\u001b[0m \u001b[0;34m**\u001b[0m\u001b[0mkwds\u001b[0m\u001b[0;34m)\u001b[0m\u001b[0;34m\u001b[0m\u001b[0m\n\u001b[0m\u001b[1;32m   1709\u001b[0m \u001b[0;34m\u001b[0m\u001b[0m\n\u001b[1;32m   1710\u001b[0m         \u001b[0mpassed_names\u001b[0m \u001b[0;34m=\u001b[0m \u001b[0mself\u001b[0m\u001b[0;34m.\u001b[0m\u001b[0mnames\u001b[0m \u001b[0;32mis\u001b[0m \u001b[0;32mNone\u001b[0m\u001b[0;34m\u001b[0m\u001b[0m\n",
            "\u001b[0;32mpandas/_libs/parsers.pyx\u001b[0m in \u001b[0;36mpandas._libs.parsers.TextReader.__cinit__\u001b[0;34m()\u001b[0m\n",
            "\u001b[0;32mpandas/_libs/parsers.pyx\u001b[0m in \u001b[0;36mpandas._libs.parsers.TextReader._setup_parser_source\u001b[0;34m()\u001b[0m\n",
            "\u001b[0;31mFileNotFoundError\u001b[0m: File b'ICT2019.csv' does not exist"
          ]
        }
      ]
    },
    {
      "metadata": {
        "trusted": true
      },
      "cell_type": "code",
      "source": "",
      "execution_count": null,
      "outputs": []
    }
  ],
  "metadata": {
    "kernelspec": {
      "name": "python36",
      "display_name": "Python 3.6",
      "language": "python"
    },
    "language_info": {
      "mimetype": "text/x-python",
      "nbconvert_exporter": "python",
      "name": "python",
      "pygments_lexer": "ipython3",
      "version": "3.6.6",
      "file_extension": ".py",
      "codemirror_mode": {
        "version": 3,
        "name": "ipython"
      }
    }
  },
  "nbformat": 4,
  "nbformat_minor": 2
}